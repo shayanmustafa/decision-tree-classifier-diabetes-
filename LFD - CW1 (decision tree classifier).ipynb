{
 "cells": [
  {
   "cell_type": "markdown",
   "metadata": {},
   "source": [
    "# Decision Trees Learning"
   ]
  },
  {
   "cell_type": "markdown",
   "metadata": {},
   "source": []
  },
  {
   "cell_type": "markdown",
   "metadata": {},
   "source": [
    "\n"
   ]
  },
  {
   "cell_type": "markdown",
   "metadata": {},
   "source": [
    "## Dataset\n",
    "\n",
    "1. preg: Number of times pregnant\n",
    "2. plas: Plasma glucose concentration a 2 hours in an oral glucose tolerance test\n",
    "3. pres: Diastolic blood pressure (mm Hg)\n",
    "4. skin: Triceps skin fold thickness (mm)\n",
    "5. insu: 2-Hour serum insulin (mu U/ml)\n",
    "6. mass: Body mass index (weight in kg/(height in m)^2)\n",
    "7. pedi: Diabetes pedigree function\n",
    "8. age: Age (years)\n",
    "9. class: Class variable (0 or 1)"
   ]
  },
  {
   "cell_type": "code",
   "execution_count": 160,
   "metadata": {},
   "outputs": [],
   "source": [
    "import pandas as pd\n",
    "dia_all = pd.read_csv(\"diabetes.txt\") # This loads the full dataset \n",
    "                 # In the file, attributes are separated by ,"
   ]
  },
  {
   "cell_type": "code",
   "execution_count": 161,
   "metadata": {
    "scrolled": true
   },
   "outputs": [
    {
     "data": {
      "text/html": [
       "<div>\n",
       "<style scoped>\n",
       "    .dataframe tbody tr th:only-of-type {\n",
       "        vertical-align: middle;\n",
       "    }\n",
       "\n",
       "    .dataframe tbody tr th {\n",
       "        vertical-align: top;\n",
       "    }\n",
       "\n",
       "    .dataframe thead th {\n",
       "        text-align: right;\n",
       "    }\n",
       "</style>\n",
       "<table border=\"1\" class=\"dataframe\">\n",
       "  <thead>\n",
       "    <tr style=\"text-align: right;\">\n",
       "      <th></th>\n",
       "      <th>preg</th>\n",
       "      <th>plas</th>\n",
       "      <th>pres</th>\n",
       "      <th>skin</th>\n",
       "      <th>insu</th>\n",
       "      <th>mass</th>\n",
       "      <th>pedi</th>\n",
       "      <th>age</th>\n",
       "      <th>class</th>\n",
       "    </tr>\n",
       "  </thead>\n",
       "  <tbody>\n",
       "    <tr>\n",
       "      <th>0</th>\n",
       "      <td>6</td>\n",
       "      <td>148</td>\n",
       "      <td>72</td>\n",
       "      <td>35</td>\n",
       "      <td>0</td>\n",
       "      <td>33.6</td>\n",
       "      <td>0.627</td>\n",
       "      <td>50</td>\n",
       "      <td>tested_positive</td>\n",
       "    </tr>\n",
       "    <tr>\n",
       "      <th>1</th>\n",
       "      <td>1</td>\n",
       "      <td>85</td>\n",
       "      <td>66</td>\n",
       "      <td>29</td>\n",
       "      <td>0</td>\n",
       "      <td>26.6</td>\n",
       "      <td>0.351</td>\n",
       "      <td>31</td>\n",
       "      <td>tested_negative</td>\n",
       "    </tr>\n",
       "    <tr>\n",
       "      <th>2</th>\n",
       "      <td>8</td>\n",
       "      <td>183</td>\n",
       "      <td>64</td>\n",
       "      <td>0</td>\n",
       "      <td>0</td>\n",
       "      <td>23.3</td>\n",
       "      <td>0.672</td>\n",
       "      <td>32</td>\n",
       "      <td>tested_positive</td>\n",
       "    </tr>\n",
       "    <tr>\n",
       "      <th>3</th>\n",
       "      <td>1</td>\n",
       "      <td>89</td>\n",
       "      <td>66</td>\n",
       "      <td>23</td>\n",
       "      <td>94</td>\n",
       "      <td>28.1</td>\n",
       "      <td>0.167</td>\n",
       "      <td>21</td>\n",
       "      <td>tested_negative</td>\n",
       "    </tr>\n",
       "    <tr>\n",
       "      <th>4</th>\n",
       "      <td>0</td>\n",
       "      <td>137</td>\n",
       "      <td>40</td>\n",
       "      <td>35</td>\n",
       "      <td>168</td>\n",
       "      <td>43.1</td>\n",
       "      <td>2.288</td>\n",
       "      <td>33</td>\n",
       "      <td>tested_positive</td>\n",
       "    </tr>\n",
       "    <tr>\n",
       "      <th>5</th>\n",
       "      <td>5</td>\n",
       "      <td>116</td>\n",
       "      <td>74</td>\n",
       "      <td>0</td>\n",
       "      <td>0</td>\n",
       "      <td>25.6</td>\n",
       "      <td>0.201</td>\n",
       "      <td>30</td>\n",
       "      <td>tested_negative</td>\n",
       "    </tr>\n",
       "    <tr>\n",
       "      <th>6</th>\n",
       "      <td>3</td>\n",
       "      <td>78</td>\n",
       "      <td>50</td>\n",
       "      <td>32</td>\n",
       "      <td>88</td>\n",
       "      <td>31.0</td>\n",
       "      <td>0.248</td>\n",
       "      <td>26</td>\n",
       "      <td>tested_positive</td>\n",
       "    </tr>\n",
       "    <tr>\n",
       "      <th>7</th>\n",
       "      <td>10</td>\n",
       "      <td>115</td>\n",
       "      <td>0</td>\n",
       "      <td>0</td>\n",
       "      <td>0</td>\n",
       "      <td>35.3</td>\n",
       "      <td>0.134</td>\n",
       "      <td>29</td>\n",
       "      <td>tested_negative</td>\n",
       "    </tr>\n",
       "    <tr>\n",
       "      <th>8</th>\n",
       "      <td>2</td>\n",
       "      <td>197</td>\n",
       "      <td>70</td>\n",
       "      <td>45</td>\n",
       "      <td>543</td>\n",
       "      <td>30.5</td>\n",
       "      <td>0.158</td>\n",
       "      <td>53</td>\n",
       "      <td>tested_positive</td>\n",
       "    </tr>\n",
       "    <tr>\n",
       "      <th>9</th>\n",
       "      <td>8</td>\n",
       "      <td>125</td>\n",
       "      <td>96</td>\n",
       "      <td>0</td>\n",
       "      <td>0</td>\n",
       "      <td>0.0</td>\n",
       "      <td>0.232</td>\n",
       "      <td>54</td>\n",
       "      <td>tested_positive</td>\n",
       "    </tr>\n",
       "  </tbody>\n",
       "</table>\n",
       "</div>"
      ],
      "text/plain": [
       "   preg  plas  pres  skin  insu  mass   pedi  age            class\n",
       "0     6   148    72    35     0  33.6  0.627   50  tested_positive\n",
       "1     1    85    66    29     0  26.6  0.351   31  tested_negative\n",
       "2     8   183    64     0     0  23.3  0.672   32  tested_positive\n",
       "3     1    89    66    23    94  28.1  0.167   21  tested_negative\n",
       "4     0   137    40    35   168  43.1  2.288   33  tested_positive\n",
       "5     5   116    74     0     0  25.6  0.201   30  tested_negative\n",
       "6     3    78    50    32    88  31.0  0.248   26  tested_positive\n",
       "7    10   115     0     0     0  35.3  0.134   29  tested_negative\n",
       "8     2   197    70    45   543  30.5  0.158   53  tested_positive\n",
       "9     8   125    96     0     0   0.0  0.232   54  tested_positive"
      ]
     },
     "execution_count": 161,
     "metadata": {},
     "output_type": "execute_result"
    }
   ],
   "source": [
    "dia_all.head(10)"
   ]
  },
  {
   "cell_type": "markdown",
   "metadata": {},
   "source": [
    "## Seperate the inpout (attributes) from target (label)"
   ]
  },
  {
   "cell_type": "code",
   "execution_count": 162,
   "metadata": {},
   "outputs": [],
   "source": [
    "sourcevars = dia_all.iloc[:,:-1] #all rows + all columns except the last one\n",
    "targetvar = dia_all.iloc[:,-1:] #all rows + only the last column"
   ]
  },
  {
   "cell_type": "code",
   "execution_count": 163,
   "metadata": {},
   "outputs": [
    {
     "data": {
      "text/html": [
       "<div>\n",
       "<style scoped>\n",
       "    .dataframe tbody tr th:only-of-type {\n",
       "        vertical-align: middle;\n",
       "    }\n",
       "\n",
       "    .dataframe tbody tr th {\n",
       "        vertical-align: top;\n",
       "    }\n",
       "\n",
       "    .dataframe thead th {\n",
       "        text-align: right;\n",
       "    }\n",
       "</style>\n",
       "<table border=\"1\" class=\"dataframe\">\n",
       "  <thead>\n",
       "    <tr style=\"text-align: right;\">\n",
       "      <th></th>\n",
       "      <th>preg</th>\n",
       "      <th>plas</th>\n",
       "      <th>pres</th>\n",
       "      <th>skin</th>\n",
       "      <th>insu</th>\n",
       "      <th>mass</th>\n",
       "      <th>pedi</th>\n",
       "      <th>age</th>\n",
       "    </tr>\n",
       "  </thead>\n",
       "  <tbody>\n",
       "    <tr>\n",
       "      <th>0</th>\n",
       "      <td>6</td>\n",
       "      <td>148</td>\n",
       "      <td>72</td>\n",
       "      <td>35</td>\n",
       "      <td>0</td>\n",
       "      <td>33.6</td>\n",
       "      <td>0.627</td>\n",
       "      <td>50</td>\n",
       "    </tr>\n",
       "    <tr>\n",
       "      <th>1</th>\n",
       "      <td>1</td>\n",
       "      <td>85</td>\n",
       "      <td>66</td>\n",
       "      <td>29</td>\n",
       "      <td>0</td>\n",
       "      <td>26.6</td>\n",
       "      <td>0.351</td>\n",
       "      <td>31</td>\n",
       "    </tr>\n",
       "    <tr>\n",
       "      <th>2</th>\n",
       "      <td>8</td>\n",
       "      <td>183</td>\n",
       "      <td>64</td>\n",
       "      <td>0</td>\n",
       "      <td>0</td>\n",
       "      <td>23.3</td>\n",
       "      <td>0.672</td>\n",
       "      <td>32</td>\n",
       "    </tr>\n",
       "    <tr>\n",
       "      <th>3</th>\n",
       "      <td>1</td>\n",
       "      <td>89</td>\n",
       "      <td>66</td>\n",
       "      <td>23</td>\n",
       "      <td>94</td>\n",
       "      <td>28.1</td>\n",
       "      <td>0.167</td>\n",
       "      <td>21</td>\n",
       "    </tr>\n",
       "    <tr>\n",
       "      <th>4</th>\n",
       "      <td>0</td>\n",
       "      <td>137</td>\n",
       "      <td>40</td>\n",
       "      <td>35</td>\n",
       "      <td>168</td>\n",
       "      <td>43.1</td>\n",
       "      <td>2.288</td>\n",
       "      <td>33</td>\n",
       "    </tr>\n",
       "  </tbody>\n",
       "</table>\n",
       "</div>"
      ],
      "text/plain": [
       "   preg  plas  pres  skin  insu  mass   pedi  age\n",
       "0     6   148    72    35     0  33.6  0.627   50\n",
       "1     1    85    66    29     0  26.6  0.351   31\n",
       "2     8   183    64     0     0  23.3  0.672   32\n",
       "3     1    89    66    23    94  28.1  0.167   21\n",
       "4     0   137    40    35   168  43.1  2.288   33"
      ]
     },
     "execution_count": 163,
     "metadata": {},
     "output_type": "execute_result"
    }
   ],
   "source": [
    "sourcevars.head()"
   ]
  },
  {
   "cell_type": "code",
   "execution_count": 164,
   "metadata": {},
   "outputs": [
    {
     "data": {
      "text/html": [
       "<div>\n",
       "<style scoped>\n",
       "    .dataframe tbody tr th:only-of-type {\n",
       "        vertical-align: middle;\n",
       "    }\n",
       "\n",
       "    .dataframe tbody tr th {\n",
       "        vertical-align: top;\n",
       "    }\n",
       "\n",
       "    .dataframe thead th {\n",
       "        text-align: right;\n",
       "    }\n",
       "</style>\n",
       "<table border=\"1\" class=\"dataframe\">\n",
       "  <thead>\n",
       "    <tr style=\"text-align: right;\">\n",
       "      <th></th>\n",
       "      <th>class</th>\n",
       "    </tr>\n",
       "  </thead>\n",
       "  <tbody>\n",
       "    <tr>\n",
       "      <th>0</th>\n",
       "      <td>tested_positive</td>\n",
       "    </tr>\n",
       "    <tr>\n",
       "      <th>1</th>\n",
       "      <td>tested_negative</td>\n",
       "    </tr>\n",
       "    <tr>\n",
       "      <th>2</th>\n",
       "      <td>tested_positive</td>\n",
       "    </tr>\n",
       "    <tr>\n",
       "      <th>3</th>\n",
       "      <td>tested_negative</td>\n",
       "    </tr>\n",
       "    <tr>\n",
       "      <th>4</th>\n",
       "      <td>tested_positive</td>\n",
       "    </tr>\n",
       "  </tbody>\n",
       "</table>\n",
       "</div>"
      ],
      "text/plain": [
       "             class\n",
       "0  tested_positive\n",
       "1  tested_negative\n",
       "2  tested_positive\n",
       "3  tested_negative\n",
       "4  tested_positive"
      ]
     },
     "execution_count": 164,
     "metadata": {},
     "output_type": "execute_result"
    }
   ],
   "source": [
    "targetvar.head()"
   ]
  },
  {
   "cell_type": "markdown",
   "metadata": {},
   "source": [
    "   ## Taks 1.a Exploratory Data Analysis (Mean, Median, Standard Deviation and Correlation Matrix)"
   ]
  },
  {
   "cell_type": "code",
   "execution_count": 165,
   "metadata": {},
   "outputs": [
    {
     "data": {
      "text/plain": [
       "preg      3.845052\n",
       "plas    120.894531\n",
       "pres     69.105469\n",
       "skin     20.536458\n",
       "insu     79.799479\n",
       "mass     31.992578\n",
       "pedi      0.471876\n",
       "age      33.240885\n",
       "dtype: float64"
      ]
     },
     "execution_count": 165,
     "metadata": {},
     "output_type": "execute_result"
    }
   ],
   "source": [
    "sourcevars.mean(axis=0) #calculates mean"
   ]
  },
  {
   "cell_type": "code",
   "execution_count": 166,
   "metadata": {},
   "outputs": [
    {
     "data": {
      "text/plain": [
       "preg      3.0000\n",
       "plas    117.0000\n",
       "pres     72.0000\n",
       "skin     23.0000\n",
       "insu     30.5000\n",
       "mass     32.0000\n",
       "pedi      0.3725\n",
       "age      29.0000\n",
       "dtype: float64"
      ]
     },
     "execution_count": 166,
     "metadata": {},
     "output_type": "execute_result"
    }
   ],
   "source": [
    "sourcevars.median(axis=0) #calculates median"
   ]
  },
  {
   "cell_type": "code",
   "execution_count": 167,
   "metadata": {},
   "outputs": [
    {
     "data": {
      "text/plain": [
       "preg      3.369578\n",
       "plas     31.972618\n",
       "pres     19.355807\n",
       "skin     15.952218\n",
       "insu    115.244002\n",
       "mass      7.884160\n",
       "pedi      0.331329\n",
       "age      11.760232\n",
       "dtype: float64"
      ]
     },
     "execution_count": 167,
     "metadata": {},
     "output_type": "execute_result"
    }
   ],
   "source": [
    "sourcevars.std(axis=0) #calculates standard deviation"
   ]
  },
  {
   "cell_type": "code",
   "execution_count": 168,
   "metadata": {},
   "outputs": [
    {
     "data": {
      "text/html": [
       "<div>\n",
       "<style scoped>\n",
       "    .dataframe tbody tr th:only-of-type {\n",
       "        vertical-align: middle;\n",
       "    }\n",
       "\n",
       "    .dataframe tbody tr th {\n",
       "        vertical-align: top;\n",
       "    }\n",
       "\n",
       "    .dataframe thead th {\n",
       "        text-align: right;\n",
       "    }\n",
       "</style>\n",
       "<table border=\"1\" class=\"dataframe\">\n",
       "  <thead>\n",
       "    <tr style=\"text-align: right;\">\n",
       "      <th></th>\n",
       "      <th>preg</th>\n",
       "      <th>plas</th>\n",
       "      <th>pres</th>\n",
       "      <th>skin</th>\n",
       "      <th>insu</th>\n",
       "      <th>mass</th>\n",
       "      <th>pedi</th>\n",
       "      <th>age</th>\n",
       "    </tr>\n",
       "  </thead>\n",
       "  <tbody>\n",
       "    <tr>\n",
       "      <th>preg</th>\n",
       "      <td>1.000000</td>\n",
       "      <td>0.129459</td>\n",
       "      <td>0.141282</td>\n",
       "      <td>-0.081672</td>\n",
       "      <td>-0.073535</td>\n",
       "      <td>0.017683</td>\n",
       "      <td>-0.033523</td>\n",
       "      <td>0.544341</td>\n",
       "    </tr>\n",
       "    <tr>\n",
       "      <th>plas</th>\n",
       "      <td>0.129459</td>\n",
       "      <td>1.000000</td>\n",
       "      <td>0.152590</td>\n",
       "      <td>0.057328</td>\n",
       "      <td>0.331357</td>\n",
       "      <td>0.221071</td>\n",
       "      <td>0.137337</td>\n",
       "      <td>0.263514</td>\n",
       "    </tr>\n",
       "    <tr>\n",
       "      <th>pres</th>\n",
       "      <td>0.141282</td>\n",
       "      <td>0.152590</td>\n",
       "      <td>1.000000</td>\n",
       "      <td>0.207371</td>\n",
       "      <td>0.088933</td>\n",
       "      <td>0.281805</td>\n",
       "      <td>0.041265</td>\n",
       "      <td>0.239528</td>\n",
       "    </tr>\n",
       "    <tr>\n",
       "      <th>skin</th>\n",
       "      <td>-0.081672</td>\n",
       "      <td>0.057328</td>\n",
       "      <td>0.207371</td>\n",
       "      <td>1.000000</td>\n",
       "      <td>0.436783</td>\n",
       "      <td>0.392573</td>\n",
       "      <td>0.183928</td>\n",
       "      <td>-0.113970</td>\n",
       "    </tr>\n",
       "    <tr>\n",
       "      <th>insu</th>\n",
       "      <td>-0.073535</td>\n",
       "      <td>0.331357</td>\n",
       "      <td>0.088933</td>\n",
       "      <td>0.436783</td>\n",
       "      <td>1.000000</td>\n",
       "      <td>0.197859</td>\n",
       "      <td>0.185071</td>\n",
       "      <td>-0.042163</td>\n",
       "    </tr>\n",
       "    <tr>\n",
       "      <th>mass</th>\n",
       "      <td>0.017683</td>\n",
       "      <td>0.221071</td>\n",
       "      <td>0.281805</td>\n",
       "      <td>0.392573</td>\n",
       "      <td>0.197859</td>\n",
       "      <td>1.000000</td>\n",
       "      <td>0.140647</td>\n",
       "      <td>0.036242</td>\n",
       "    </tr>\n",
       "    <tr>\n",
       "      <th>pedi</th>\n",
       "      <td>-0.033523</td>\n",
       "      <td>0.137337</td>\n",
       "      <td>0.041265</td>\n",
       "      <td>0.183928</td>\n",
       "      <td>0.185071</td>\n",
       "      <td>0.140647</td>\n",
       "      <td>1.000000</td>\n",
       "      <td>0.033561</td>\n",
       "    </tr>\n",
       "    <tr>\n",
       "      <th>age</th>\n",
       "      <td>0.544341</td>\n",
       "      <td>0.263514</td>\n",
       "      <td>0.239528</td>\n",
       "      <td>-0.113970</td>\n",
       "      <td>-0.042163</td>\n",
       "      <td>0.036242</td>\n",
       "      <td>0.033561</td>\n",
       "      <td>1.000000</td>\n",
       "    </tr>\n",
       "  </tbody>\n",
       "</table>\n",
       "</div>"
      ],
      "text/plain": [
       "          preg      plas      pres      skin      insu      mass      pedi  \\\n",
       "preg  1.000000  0.129459  0.141282 -0.081672 -0.073535  0.017683 -0.033523   \n",
       "plas  0.129459  1.000000  0.152590  0.057328  0.331357  0.221071  0.137337   \n",
       "pres  0.141282  0.152590  1.000000  0.207371  0.088933  0.281805  0.041265   \n",
       "skin -0.081672  0.057328  0.207371  1.000000  0.436783  0.392573  0.183928   \n",
       "insu -0.073535  0.331357  0.088933  0.436783  1.000000  0.197859  0.185071   \n",
       "mass  0.017683  0.221071  0.281805  0.392573  0.197859  1.000000  0.140647   \n",
       "pedi -0.033523  0.137337  0.041265  0.183928  0.185071  0.140647  1.000000   \n",
       "age   0.544341  0.263514  0.239528 -0.113970 -0.042163  0.036242  0.033561   \n",
       "\n",
       "           age  \n",
       "preg  0.544341  \n",
       "plas  0.263514  \n",
       "pres  0.239528  \n",
       "skin -0.113970  \n",
       "insu -0.042163  \n",
       "mass  0.036242  \n",
       "pedi  0.033561  \n",
       "age   1.000000  "
      ]
     },
     "execution_count": 168,
     "metadata": {},
     "output_type": "execute_result"
    }
   ],
   "source": [
    "sourcevars.corr() #calculates correlation matrix"
   ]
  },
  {
   "cell_type": "markdown",
   "metadata": {},
   "source": [
    "   ## Taks 1.b Heatmap to understand the data and the relationship among the variables"
   ]
  },
  {
   "cell_type": "code",
   "execution_count": 169,
   "metadata": {},
   "outputs": [
    {
     "data": {
      "text/plain": [
       "<matplotlib.axes._subplots.AxesSubplot at 0x1c4bcb5ebb0>"
      ]
     },
     "execution_count": 169,
     "metadata": {},
     "output_type": "execute_result"
    },
    {
     "data": {
      "image/png": "[encoded data removed]",
      "text/plain": [
       "<Figure size 792x648 with 2 Axes>"
      ]
     },
     "metadata": {
      "needs_background": "light"
     },
     "output_type": "display_data"
    }
   ],
   "source": [
    "#creating heatmap\n",
    "\n",
    "from string import ascii_letters\n",
    "import numpy as np\n",
    "import seaborn as sns\n",
    "import matplotlib.pyplot as plt\n",
    "\n",
    "\n",
    "corr = sourcevars.corr()\n",
    "# Generate a mask for the upper triangle\n",
    "mask = np.triu(np.ones_like(corr, dtype=bool))\n",
    "#setting up matplotlib fig\n",
    "f, ax = plt.subplots(figsize=(11, 9))\n",
    "#custom diverging color map\n",
    "cmap = sns.diverging_palette(250, 50, as_cmap=True)\n",
    "#draw the heatmap\n",
    "sns.heatmap(corr, mask=mask, cmap=cmap, vmax=.3, center=0,\n",
    "            square=True, linewidths=.5, cbar_kws={\"shrink\": .5})"
   ]
  },
  {
   "cell_type": "markdown",
   "metadata": {},
   "source": [
    "   ## Task 2.a Decision tree classifier using the training dataset and the performance is evaluated on the test dataset. Experiment is repeated 10 times using a different random split in each iteration. Performance of each iteration is shown  and the average of all iterations"
   ]
  },
  {
   "cell_type": "code",
   "execution_count": 170,
   "metadata": {},
   "outputs": [
    {
     "data": {
      "text/plain": [
       "0      1\n",
       "1      0\n",
       "2      1\n",
       "3      0\n",
       "4      1\n",
       "      ..\n",
       "763    0\n",
       "764    0\n",
       "765    0\n",
       "766    1\n",
       "767    0\n",
       "Name: class, Length: 768, dtype: int32"
      ]
     },
     "execution_count": 170,
     "metadata": {},
     "output_type": "execute_result"
    }
   ],
   "source": [
    "from sklearn.preprocessing import LabelEncoder\n",
    "import warnings\n",
    "warnings.filterwarnings('ignore')\n",
    "\n",
    "#label encoding for class variable (y)\n",
    "labelencoder = LabelEncoder()\n",
    "targetvar['class'] = labelencoder.fit_transform(targetvar['class'])\n",
    "targetvar['class']"
   ]
  },
  {
   "cell_type": "code",
   "execution_count": 171,
   "metadata": {},
   "outputs": [
    {
     "name": "stdout",
     "output_type": "stream",
     "text": [
      "USING CRITERION GINI IMPURITY\n",
      "Iteration: 1\n",
      "Accuracy Score: 0.6926406926406926\n",
      "Precision Score: 0.5492957746478874\n",
      "Recall Score: 0.5\n",
      "Iteration: 2\n",
      "Accuracy Score: 0.70995670995671\n",
      "Precision Score: 0.5945945945945946\n",
      "Recall Score: 0.5432098765432098\n",
      "Iteration: 3\n",
      "Accuracy Score: 0.683982683982684\n",
      "Precision Score: 0.5753424657534246\n",
      "Recall Score: 0.5\n",
      "Iteration: 4\n",
      "Accuracy Score: 0.670995670995671\n",
      "Precision Score: 0.5061728395061729\n",
      "Recall Score: 0.5324675324675324\n",
      "Iteration: 5\n",
      "Accuracy Score: 0.70995670995671\n",
      "Precision Score: 0.5952380952380952\n",
      "Recall Score: 0.6024096385542169\n",
      "Iteration: 6\n",
      "Accuracy Score: 0.6926406926406926\n",
      "Precision Score: 0.5555555555555556\n",
      "Recall Score: 0.5063291139240507\n",
      "Iteration: 7\n",
      "Accuracy Score: 0.7186147186147186\n",
      "Precision Score: 0.5945945945945946\n",
      "Recall Score: 0.5569620253164557\n",
      "Iteration: 8\n",
      "Accuracy Score: 0.70995670995671\n",
      "Precision Score: 0.5421686746987951\n",
      "Recall Score: 0.6081081081081081\n",
      "Iteration: 9\n",
      "Accuracy Score: 0.7445887445887446\n",
      "Precision Score: 0.6455696202531646\n",
      "Recall Score: 0.6219512195121951\n",
      "Iteration: 10\n",
      "Accuracy Score: 0.7142857142857143\n",
      "Precision Score: 0.6103896103896104\n",
      "Recall Score: 0.5662650602409639\n",
      "AVERAGE ACCURACY SCORE: 0.7047619047619048\n",
      "AVERAGE PRECISION SCORE: 0.5768921825231895\n",
      "AVERAGE RECALL SCORE: 0.5537702574666732\n"
     ]
    }
   ],
   "source": [
    "from sklearn.model_selection import train_test_split\n",
    "from sklearn.tree import DecisionTreeClassifier\n",
    "from sklearn.metrics import accuracy_score\n",
    "from sklearn.metrics import precision_score\n",
    "from sklearn.metrics import recall_score\n",
    "import random\n",
    "print(\"USING CRITERION GINI IMPURITY\")\n",
    "accuracy_gini = []\n",
    "precision_gini = []\n",
    "recall_gini = []\n",
    "n = 1\n",
    "\n",
    "#creating instance of model\n",
    "classifier_model = DecisionTreeClassifier(random_state=120)\n",
    "\n",
    "#inside a loop calculate accuracy, precision and reacall at each iteration\n",
    "while n <= 10:\n",
    "    X_train, X_test, y_train, y_test = train_test_split(sourcevars, targetvar,\n",
    "                                                        test_size = 0.3, random_state=random.randint(10, 120))\n",
    "    classifier_model = classifier_model.fit(X_train, y_train)\n",
    "    preds = classifier_model.predict(X_test)\n",
    "    \n",
    "    accuracy_score_gini = accuracy_score(y_test, preds)\n",
    "    accuracy_gini.append(accuracy_score_gini)\n",
    "    \n",
    "    precision_score_gini = precision_score(y_test, preds)\n",
    "    precision_gini.append(precision_score_gini)\n",
    "    \n",
    "    recall_score_gini = recall_score(y_test, preds)\n",
    "    recall_gini.append(recall_score_gini)\n",
    "    \n",
    "    print(\"Iteration: {0}\".format(n))\n",
    "    print(\"Accuracy Score: {0}\".format(accuracy_score_gini))\n",
    "    print(\"Precision Score: {0}\".format(precision_score_gini))\n",
    "    print(\"Recall Score: {0}\".format(recall_score_gini))\n",
    "    n+=1\n",
    "#calculating averages\n",
    "print(\"AVERAGE ACCURACY SCORE: {0}\".format(sum(accuracy_gini)/len(accuracy_gini)))\n",
    "print(\"AVERAGE PRECISION SCORE: {0}\".format(sum(precision_gini)/len(precision_gini)))\n",
    "print(\"AVERAGE RECALL SCORE: {0}\".format(sum(recall_gini)/len(recall_gini)))"
   ]
  },
  {
   "cell_type": "markdown",
   "metadata": {},
   "source": [
    "   ## Task 2.b Decision tree classifier (using entropy) using the training dataset and the performance is evaluated on the test dataset. Experiment is repeated 10 times using a different random split in each iteration. Performance of each iteration is shown  and the average of all iterations"
   ]
  },
  {
   "cell_type": "code",
   "execution_count": 172,
   "metadata": {},
   "outputs": [
    {
     "name": "stdout",
     "output_type": "stream",
     "text": [
      "USING CRITERION INFORMATION GAIN ENTROPY\n",
      "Iteration: 1\n",
      "Accuracy Score: 0.6753246753246753\n",
      "Precision Score: 0.5873015873015873\n",
      "Recall Score: 0.43023255813953487\n",
      "Iteration: 2\n",
      "Accuracy Score: 0.7186147186147186\n",
      "Precision Score: 0.6041666666666666\n",
      "Recall Score: 0.6823529411764706\n",
      "Iteration: 3\n",
      "Accuracy Score: 0.7229437229437229\n",
      "Precision Score: 0.6086956521739131\n",
      "Recall Score: 0.6666666666666666\n",
      "Iteration: 4\n",
      "Accuracy Score: 0.6796536796536796\n",
      "Precision Score: 0.5294117647058824\n",
      "Recall Score: 0.569620253164557\n",
      "Iteration: 5\n",
      "Accuracy Score: 0.7316017316017316\n",
      "Precision Score: 0.6582278481012658\n",
      "Recall Score: 0.5977011494252874\n",
      "Iteration: 6\n",
      "Accuracy Score: 0.7056277056277056\n",
      "Precision Score: 0.5542168674698795\n",
      "Recall Score: 0.5974025974025974\n",
      "Iteration: 7\n",
      "Accuracy Score: 0.7056277056277056\n",
      "Precision Score: 0.5662650602409639\n",
      "Recall Score: 0.5949367088607594\n",
      "Iteration: 8\n",
      "Accuracy Score: 0.7445887445887446\n",
      "Precision Score: 0.625\n",
      "Recall Score: 0.6790123456790124\n",
      "Iteration: 9\n",
      "Accuracy Score: 0.7359307359307359\n",
      "Precision Score: 0.6125\n",
      "Recall Score: 0.620253164556962\n",
      "Iteration: 10\n",
      "Accuracy Score: 0.7056277056277056\n",
      "Precision Score: 0.5662650602409639\n",
      "Recall Score: 0.5949367088607594\n",
      "AVERAGE ACCURACY SCORE: 0.7125541125541125\n",
      "AVERAGE PRECISION SCORE: 0.5912050506901122\n",
      "AVERAGE RECALL SCORE: 0.6033115093932607\n"
     ]
    }
   ],
   "source": [
    "import random\n",
    "print(\"USING CRITERION INFORMATION GAIN ENTROPY\")\n",
    "accuracy_entropy = []\n",
    "precision_entropy = []\n",
    "recall_entropy = []\n",
    "n = 1\n",
    "\n",
    "#creating instance of model\n",
    "classifier_model = DecisionTreeClassifier(criterion='entropy', random_state=120)\n",
    "\n",
    "#inside a loop calculate accuracy, precision and recall score at each iteration\n",
    "while n <= 10:\n",
    "    X_train, X_test, y_train, y_test = train_test_split(sourcevars, targetvar, \n",
    "                                                        test_size = 0.3, random_state=random.randint(10, 120))\n",
    "    classifier_model = classifier_model.fit(X_train, y_train)\n",
    "    preds = classifier_model.predict(X_test)\n",
    "    \n",
    "    accuracy_score_entropy = accuracy_score(y_test, preds)\n",
    "    accuracy_entropy.append(accuracy_score_entropy)\n",
    "    \n",
    "    precision_score_entropy = precision_score(y_test, preds)\n",
    "    precision_entropy.append(precision_score_entropy)\n",
    "    \n",
    "    recall_score_entropy = recall_score(y_test, preds)\n",
    "    recall_entropy.append(recall_score_entropy)\n",
    "    \n",
    "    print(\"Iteration: {0}\".format(n))\n",
    "    print(\"Accuracy Score: {0}\".format(accuracy_score_entropy))\n",
    "    print(\"Precision Score: {0}\".format(precision_score(y_test, preds)))\n",
    "    print(\"Recall Score: {0}\".format(recall_score(y_test, preds)))\n",
    "    n+=1\n",
    "#calculating averages\n",
    "print(\"AVERAGE ACCURACY SCORE: {0}\".format(sum(accuracy_entropy)/len(accuracy_entropy)))\n",
    "print(\"AVERAGE PRECISION SCORE: {0}\".format(sum(precision_entropy)/len(precision_entropy)))\n",
    "print(\"AVERAGE RECALL SCORE: {0}\".format(sum(recall_entropy)/len(recall_entropy)))"
   ]
  },
  {
   "cell_type": "markdown",
   "metadata": {},
   "source": [
    "   ## Task 2.c Comparing performance of two classifiers"
   ]
  },
  {
   "cell_type": "code",
   "execution_count": 173,
   "metadata": {},
   "outputs": [
    {
     "data": {
      "image/png": "[encoded data removed]",
      "text/plain": [
       "<Figure size 432x288 with 1 Axes>"
      ]
     },
     "metadata": {
      "needs_background": "light"
     },
     "output_type": "display_data"
    }
   ],
   "source": [
    "import matplotlib.pyplot as plt\n",
    "\n",
    "avg_accuracy_gini = sum(accuracy_gini)/len(accuracy_gini)\n",
    "avg_accuracy_entropy = sum(accuracy_entropy)/len(accuracy_entropy)\n",
    "\n",
    "names = ['Decision Tree (Gini)', 'Decision Tree (Entropy)']\n",
    "\n",
    "fig = plt.figure()\n",
    "fig.suptitle('Comparison between Decision Tree (entropy) and Decision Tree (gini)')\n",
    "ax = fig.add_subplot(111)\n",
    "plt.boxplot([accuracy_gini, accuracy_entropy])\n",
    "ax.set_xticklabels(names)\n",
    "ax.set_ylabel(\"Accuracy\")\n",
    "plt.show()"
   ]
  },
  {
   "cell_type": "markdown",
   "metadata": {},
   "source": [
    "## Task 2.d Comment on whether standardizing the data before applying DT would improve the performance for this dataset"
   ]
  },
  {
   "cell_type": "markdown",
   "metadata": {},
   "source": [
    "Standardization helps when the variables in the dataset have different units. If the variables are measured at different units then do not contribute themselves equally in the analysis and create a bias. \n",
    "Standardizing the data before applying a decision tree algorithm will not affect the accuracy of the dataset. A node in a tree splits the data into two sets by comparing a variable or feature to a threshold value. In other words, a decision tree splits a node based on a single feature. Decision trees work like an ‘if’ clause. It compares and branches down the tree. "
   ]
  },
  {
   "cell_type": "markdown",
   "metadata": {},
   "source": [
    "## Task 3.a Analysis on increasing the minimum number of samples required to split an internal node parameter in the DT algorithm affect the accuracy on the test set"
   ]
  },
  {
   "cell_type": "code",
   "execution_count": 174,
   "metadata": {},
   "outputs": [
    {
     "name": "stdout",
     "output_type": "stream",
     "text": [
      "0.696969696969697\n",
      "0.670995670995671\n",
      "0.70995670995671\n",
      "0.7186147186147186\n"
     ]
    },
    {
     "data": {
      "text/plain": [
       "Text(0, 0.5, 'Accuracy Score')"
      ]
     },
     "execution_count": 174,
     "metadata": {},
     "output_type": "execute_result"
    },
    {
     "data": {
      "image/png": "[encoded data removed]",
      "text/plain": [
       "<Figure size 432x288 with 1 Axes>"
      ]
     },
     "metadata": {
      "needs_background": "light"
     },
     "output_type": "display_data"
    }
   ],
   "source": [
    "minimum_samples = [2, 5, 10, 15]\n",
    "accuracy_score_min_samples = []\n",
    "for sample in minimum_samples:\n",
    "    classifier_model = DecisionTreeClassifier(random_state=120, min_samples_split=sample)\n",
    "    classifier_model = classifier_model.fit(X_train, y_train)\n",
    "    preds = classifier_model.predict(X_test)\n",
    "    accuracy_score_min_samples.append(accuracy_score(y_test, preds))\n",
    "    print(accuracy_score(y_test, preds))\n",
    "plt.bar(minimum_samples, accuracy_score_min_samples)\n",
    "plt.xlabel(\"Minimum Sample Split\")\n",
    "plt.ylabel(\"Accuracy Score\")"
   ]
  },
  {
   "cell_type": "markdown",
   "metadata": {},
   "source": [
    "## Task 3.b Analysis on increasing the maximum depth parameter of decision tree affect the accuracy on the test set"
   ]
  },
  {
   "cell_type": "code",
   "execution_count": 175,
   "metadata": {},
   "outputs": [
    {
     "name": "stdout",
     "output_type": "stream",
     "text": [
      "0.7662337662337663\n",
      "0.7316017316017316\n",
      "0.7532467532467533\n",
      "0.7489177489177489\n"
     ]
    },
    {
     "data": {
      "text/plain": [
       "Text(0, 0.5, 'Accuracy Score')"
      ]
     },
     "execution_count": 175,
     "metadata": {},
     "output_type": "execute_result"
    },
    {
     "data": {
      "image/png": "[encoded data removed]",
      "text/plain": [
       "<Figure size 432x288 with 1 Axes>"
      ]
     },
     "metadata": {
      "needs_background": "light"
     },
     "output_type": "display_data"
    }
   ],
   "source": [
    "maximum_depth = [3, 4, 5, 6]\n",
    "accuracy_score_max_depth = []\n",
    "\n",
    "for depth in maximum_depth:\n",
    "    classifier_model = DecisionTreeClassifier(random_state=120, max_depth=depth)\n",
    "    classifier_model = classifier_model.fit(X_train, y_train)\n",
    "    preds = classifier_model.predict(X_test)\n",
    "    accuracy_score_max_depth.append(accuracy_score(y_test, preds))\n",
    "    print(accuracy_score(y_test, preds))\n",
    "plt.bar(maximum_depth, accuracy_score_max_depth)\n",
    "plt.xlabel(\"Maximum Depth\")\n",
    "plt.ylabel(\"Accuracy Score\")"
   ]
  },
  {
   "cell_type": "code",
   "execution_count": null,
   "metadata": {},
   "outputs": [],
   "source": []
  }
 ],
 "metadata": {
  "kernelspec": {
   "display_name": "Python 3",
   "language": "python",
   "name": "python3"
  },
  "language_info": {
   "codemirror_mode": {
    "name": "ipython",
    "version": 3
   },
   "file_extension": ".py",
   "mimetype": "text/x-python",
   "name": "python",
   "nbconvert_exporter": "python",
   "pygments_lexer": "ipython3",
   "version": "3.8.3"
  }
 },
 "nbformat": 4,
 "nbformat_minor": 2
}
